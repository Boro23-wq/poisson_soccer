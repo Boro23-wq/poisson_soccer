{
 "cells": [
  {
   "cell_type": "markdown",
   "metadata": {
    "ExecuteTime": {
     "end_time": "2019-10-09T11:23:54.170987Z",
     "start_time": "2019-10-09T11:23:54.167752Z"
    }
   },
   "source": [
    "# How to predict soccer results with the Poisson distribution\n",
    "## A deep dive into the mechanics"
   ]
  },
  {
   "cell_type": "raw",
   "metadata": {},
   "source": [
    "Betting in general and betting games became even more popular in the last years. You can bet everywhere at any time via your pc or your smartphone. Therefore, it is not suprising that a lot of people try to predict results of sport events. For soccer there is a huge market and you are able to bet on nearly every event which can appear in a soccer game like goals, players, cards, corners and so on.\n",
    "The most common bet is called 1x2. You try to predict if there is a win by the home team (1), a draw (x) or a win by the away team (2). People who don´t trust animals like Paul the octupus (https://en.wikipedia.org/wiki/Paul_the_Octopus) are looking for more sophisticated statiscal approaches. I want to share a very basic approach with you. We will have a deeper look how we can use the Poisson distribution in Python. For the basic statistical concept, please have a look at [] and [].\n",
    "In the next parts I will use large parts of a code which was published by David Sheehan in his fantastic blog. I will go deeper into details and I will review the success of the model to answer the questions if the Poisson distribution can be used for betting. "
   ]
  },
  {
   "cell_type": "raw",
   "metadata": {},
   "source": [
    "Before we create models, predict results and check these for correctness, we need some data. So let´s get the last Premier League (PL) season:"
   ]
  },
  {
   "cell_type": "code",
   "execution_count": 1,
   "metadata": {
    "ExecuteTime": {
     "end_time": "2019-10-18T14:33:21.065537Z",
     "start_time": "2019-10-18T14:33:13.078446Z"
    }
   },
   "outputs": [],
   "source": [
    "import pandas as pd\n",
    "import matplotlib.pyplot as plt\n",
    "import numpy as np\n",
    "import seaborn\n",
    "from scipy.stats import poisson,skellam\n",
    "\n",
    "epl_1819 = pd.read_csv(\"http://www.football-data.co.uk/mmz4281/1819/E0.csv\")\n",
    "epl_1819 = epl_1819[['HomeTeam','AwayTeam','FTHG','FTAG']]\n",
    "epl_1819 = epl_1819.rename(columns={'FTHG': 'HomeGoals', 'FTAG': 'AwayGoals'})"
   ]
  },
  {
   "cell_type": "raw",
   "metadata": {},
   "source": [
    "20 Teams are playing in the PL, so we remove the last 10 rows and try to predict the results for the last matchday. After we are looking for the average home and away goals."
   ]
  },
  {
   "cell_type": "code",
   "execution_count": 2,
   "metadata": {
    "ExecuteTime": {
     "end_time": "2019-10-18T14:33:21.097313Z",
     "start_time": "2019-10-18T14:33:21.069356Z"
    },
    "scrolled": false
   },
   "outputs": [
    {
     "data": {
      "text/plain": [
       "HomeGoals    1.575676\n",
       "AwayGoals    1.224324\n",
       "dtype: float64"
      ]
     },
     "execution_count": 2,
     "metadata": {},
     "output_type": "execute_result"
    }
   ],
   "source": [
    "epl_1819_master = epl_1819\n",
    "epl_1819_test = epl_1819[-10:]\n",
    "epl_1819 = epl_1819[:-10]\n",
    "epl_1819.mean()"
   ]
  },
  {
   "cell_type": "raw",
   "metadata": {},
   "source": [
    "For soccer fans this result is not suprising. The home teams score more goals in average than the away teams. "
   ]
  },
  {
   "cell_type": "code",
   "execution_count": 3,
   "metadata": {
    "ExecuteTime": {
     "end_time": "2019-10-18T14:33:21.111263Z",
     "start_time": "2019-10-18T14:33:21.099277Z"
    }
   },
   "outputs": [
    {
     "data": {
      "text/plain": [
       "HomeGoals    6\n",
       "AwayGoals    6\n",
       "dtype: int64"
      ]
     },
     "execution_count": 3,
     "metadata": {},
     "output_type": "execute_result"
    }
   ],
   "source": [
    "epl_1819[['HomeGoals','AwayGoals']].max()"
   ]
  },
  {
   "cell_type": "raw",
   "metadata": {},
   "source": [
    "The highest amount of goals by one team in a single match was 6. Basically we have now all required parameter for our Poisson distribution. In a first step we can predict the probability that the home team scores 1 goal for example:"
   ]
  },
  {
   "cell_type": "code",
   "execution_count": 4,
   "metadata": {
    "ExecuteTime": {
     "end_time": "2019-10-18T14:33:21.129196Z",
     "start_time": "2019-10-18T14:33:21.118223Z"
    }
   },
   "outputs": [
    {
     "data": {
      "text/plain": [
       "0.32595641155030625"
      ]
     },
     "execution_count": 4,
     "metadata": {},
     "output_type": "execute_result"
    }
   ],
   "source": [
    "poisson.pmf(1,1.575676)"
   ]
  },
  {
   "cell_type": "raw",
   "metadata": {},
   "source": [
    "The chance that the home teams scores 1 goal is 32,6%. Let´s visualize the values for an amount of goals between 0 and 8 and for the home and away side:"
   ]
  },
  {
   "cell_type": "code",
   "execution_count": 1,
   "metadata": {
    "ExecuteTime": {
     "end_time": "2019-10-18T15:52:54.153105Z",
     "start_time": "2019-10-18T15:52:52.266167Z"
    },
    "scrolled": false
   },
   "outputs": [
    {
     "ename": "NameError",
     "evalue": "name 'epl_1819' is not defined",
     "output_type": "error",
     "traceback": [
      "\u001b[1;31m---------------------------------------------------------------------------\u001b[0m",
      "\u001b[1;31mNameError\u001b[0m                                 Traceback (most recent call last)",
      "\u001b[1;32m<ipython-input-1-867dcac81ed9>\u001b[0m in \u001b[0;36m<module>\u001b[1;34m\u001b[0m\n\u001b[0;32m      5\u001b[0m \u001b[1;33m\u001b[0m\u001b[0m\n\u001b[0;32m      6\u001b[0m \u001b[1;31m#Poisson predictions as percentage\u001b[0m\u001b[1;33m\u001b[0m\u001b[1;33m\u001b[0m\u001b[1;33m\u001b[0m\u001b[0m\n\u001b[1;32m----> 7\u001b[1;33m \u001b[0mprobs_goals\u001b[0m \u001b[1;33m=\u001b[0m \u001b[1;33m[\u001b[0m\u001b[1;33m[\u001b[0m\u001b[0mpoisson\u001b[0m\u001b[1;33m.\u001b[0m\u001b[0mpmf\u001b[0m\u001b[1;33m(\u001b[0m\u001b[0mi\u001b[0m\u001b[1;33m,\u001b[0m \u001b[0mepl_1819\u001b[0m\u001b[1;33m.\u001b[0m\u001b[0mmean\u001b[0m\u001b[1;33m(\u001b[0m\u001b[1;33m)\u001b[0m\u001b[1;33m[\u001b[0m\u001b[0mj\u001b[0m\u001b[1;33m]\u001b[0m\u001b[1;33m)\u001b[0m \u001b[1;32mfor\u001b[0m \u001b[0mi\u001b[0m \u001b[1;32min\u001b[0m \u001b[0mrange\u001b[0m\u001b[1;33m(\u001b[0m\u001b[0mepl_1819\u001b[0m\u001b[1;33m[\u001b[0m\u001b[1;34m'HomeGoals'\u001b[0m\u001b[1;33m]\u001b[0m\u001b[1;33m.\u001b[0m\u001b[0mmax\u001b[0m\u001b[1;33m(\u001b[0m\u001b[1;33m)\u001b[0m\u001b[1;33m+\u001b[0m\u001b[1;36m3\u001b[0m\u001b[1;33m)\u001b[0m\u001b[1;33m]\u001b[0m \u001b[1;32mfor\u001b[0m \u001b[0mj\u001b[0m \u001b[1;32min\u001b[0m \u001b[0mrange\u001b[0m\u001b[1;33m(\u001b[0m\u001b[1;36m2\u001b[0m\u001b[1;33m)\u001b[0m\u001b[1;33m]\u001b[0m\u001b[1;33m\u001b[0m\u001b[1;33m\u001b[0m\u001b[0m\n\u001b[0m\u001b[0;32m      8\u001b[0m \u001b[0mprobs_home_new\u001b[0m \u001b[1;33m=\u001b[0m \u001b[1;33m[\u001b[0m\u001b[0mi\u001b[0m\u001b[1;33m*\u001b[0m\u001b[1;36m100\u001b[0m \u001b[1;32mfor\u001b[0m \u001b[0mi\u001b[0m \u001b[1;32min\u001b[0m \u001b[0mprobs_goals\u001b[0m\u001b[1;33m[\u001b[0m\u001b[1;36m0\u001b[0m\u001b[1;33m]\u001b[0m\u001b[1;33m]\u001b[0m\u001b[1;33m\u001b[0m\u001b[1;33m\u001b[0m\u001b[0m\n\u001b[0;32m      9\u001b[0m \u001b[0mprobs_away_new\u001b[0m \u001b[1;33m=\u001b[0m \u001b[1;33m[\u001b[0m\u001b[0mi\u001b[0m\u001b[1;33m*\u001b[0m\u001b[1;36m100\u001b[0m \u001b[1;32mfor\u001b[0m \u001b[0mi\u001b[0m \u001b[1;32min\u001b[0m \u001b[0mprobs_goals\u001b[0m\u001b[1;33m[\u001b[0m\u001b[1;36m1\u001b[0m\u001b[1;33m]\u001b[0m\u001b[1;33m]\u001b[0m\u001b[1;33m\u001b[0m\u001b[1;33m\u001b[0m\u001b[0m\n",
      "\u001b[1;32m<ipython-input-1-867dcac81ed9>\u001b[0m in \u001b[0;36m<listcomp>\u001b[1;34m(.0)\u001b[0m\n\u001b[0;32m      5\u001b[0m \u001b[1;33m\u001b[0m\u001b[0m\n\u001b[0;32m      6\u001b[0m \u001b[1;31m#Poisson predictions as percentage\u001b[0m\u001b[1;33m\u001b[0m\u001b[1;33m\u001b[0m\u001b[1;33m\u001b[0m\u001b[0m\n\u001b[1;32m----> 7\u001b[1;33m \u001b[0mprobs_goals\u001b[0m \u001b[1;33m=\u001b[0m \u001b[1;33m[\u001b[0m\u001b[1;33m[\u001b[0m\u001b[0mpoisson\u001b[0m\u001b[1;33m.\u001b[0m\u001b[0mpmf\u001b[0m\u001b[1;33m(\u001b[0m\u001b[0mi\u001b[0m\u001b[1;33m,\u001b[0m \u001b[0mepl_1819\u001b[0m\u001b[1;33m.\u001b[0m\u001b[0mmean\u001b[0m\u001b[1;33m(\u001b[0m\u001b[1;33m)\u001b[0m\u001b[1;33m[\u001b[0m\u001b[0mj\u001b[0m\u001b[1;33m]\u001b[0m\u001b[1;33m)\u001b[0m \u001b[1;32mfor\u001b[0m \u001b[0mi\u001b[0m \u001b[1;32min\u001b[0m \u001b[0mrange\u001b[0m\u001b[1;33m(\u001b[0m\u001b[0mepl_1819\u001b[0m\u001b[1;33m[\u001b[0m\u001b[1;34m'HomeGoals'\u001b[0m\u001b[1;33m]\u001b[0m\u001b[1;33m.\u001b[0m\u001b[0mmax\u001b[0m\u001b[1;33m(\u001b[0m\u001b[1;33m)\u001b[0m\u001b[1;33m+\u001b[0m\u001b[1;36m3\u001b[0m\u001b[1;33m)\u001b[0m\u001b[1;33m]\u001b[0m \u001b[1;32mfor\u001b[0m \u001b[0mj\u001b[0m \u001b[1;32min\u001b[0m \u001b[0mrange\u001b[0m\u001b[1;33m(\u001b[0m\u001b[1;36m2\u001b[0m\u001b[1;33m)\u001b[0m\u001b[1;33m]\u001b[0m\u001b[1;33m\u001b[0m\u001b[1;33m\u001b[0m\u001b[0m\n\u001b[0m\u001b[0;32m      8\u001b[0m \u001b[0mprobs_home_new\u001b[0m \u001b[1;33m=\u001b[0m \u001b[1;33m[\u001b[0m\u001b[0mi\u001b[0m\u001b[1;33m*\u001b[0m\u001b[1;36m100\u001b[0m \u001b[1;32mfor\u001b[0m \u001b[0mi\u001b[0m \u001b[1;32min\u001b[0m \u001b[0mprobs_goals\u001b[0m\u001b[1;33m[\u001b[0m\u001b[1;36m0\u001b[0m\u001b[1;33m]\u001b[0m\u001b[1;33m]\u001b[0m\u001b[1;33m\u001b[0m\u001b[1;33m\u001b[0m\u001b[0m\n\u001b[0;32m      9\u001b[0m \u001b[0mprobs_away_new\u001b[0m \u001b[1;33m=\u001b[0m \u001b[1;33m[\u001b[0m\u001b[0mi\u001b[0m\u001b[1;33m*\u001b[0m\u001b[1;36m100\u001b[0m \u001b[1;32mfor\u001b[0m \u001b[0mi\u001b[0m \u001b[1;32min\u001b[0m \u001b[0mprobs_goals\u001b[0m\u001b[1;33m[\u001b[0m\u001b[1;36m1\u001b[0m\u001b[1;33m]\u001b[0m\u001b[1;33m]\u001b[0m\u001b[1;33m\u001b[0m\u001b[1;33m\u001b[0m\u001b[0m\n",
      "\u001b[1;31mNameError\u001b[0m: name 'epl_1819' is not defined"
     ]
    }
   ],
   "source": [
    "import plotly.graph_objects as go\n",
    "\n",
    "#Y-Axis ticks for the line\n",
    "goals=['0','1','2','3','4','5','6','7','8']\n",
    "\n",
    "#Poisson predictions as percentage\n",
    "probs_goals = [[poisson.pmf(i, epl_1819.mean()[j]) for i in range(epl_1819['HomeGoals'].max()+3)] for j in range(2)]\n",
    "probs_home_new = [i*100 for i in probs_goals[0]]\n",
    "probs_away_new = [i*100 for i in probs_goals[1]]\n",
    "\n",
    "fig = go.Figure()\n",
    "fig.add_trace(go.Histogram(\n",
    "    x=epl_1819['HomeGoals'],\n",
    "    histnorm='percent',\n",
    "    name='Home',\n",
    "    marker_color='#EB89B5',\n",
    "    opacity=0.50\n",
    "))\n",
    "fig.add_trace(go.Histogram(\n",
    "    x=epl_1819['AwayGoals'],\n",
    "    histnorm='percent',\n",
    "    name='Away',\n",
    "    marker_color='#330C73',\n",
    "    opacity=0.50\n",
    "))\n",
    "\n",
    "fig.add_trace(go.Scatter(x=goals, y=probs_home_new,\n",
    "                    mode='lines+markers',\n",
    "                    line = dict(color='#EB89B5', width=4, dash='dash'),\n",
    "                    name='Home Poisson', ))\n",
    "\n",
    "fig.add_trace(go.Scatter(x=goals, y=probs_away_new,\n",
    "                    mode='lines+markers',\n",
    "                    line = dict(color='#330C73', width=4, dash='dash'),\n",
    "                    name='Away Poisson'))\n",
    "\n",
    "fig.update_layout(title='Real number of goals per match vs Poisson prediction (Premier League 2018/19)',\n",
    "                   xaxis_title='Goals',\n",
    "                   yaxis_title='Share in %',\n",
    "                  barmode='group')\n",
    "#fig.show()"
   ]
  },
  {
   "cell_type": "raw",
   "metadata": {},
   "source": [
    "The bars show the real amount of goals in the season 2018/19. The lines show our Poisson calculated values which seem to fit the real distribution pretty well."
   ]
  },
  {
   "cell_type": "markdown",
   "metadata": {},
   "source": [
    "## Predict a match of the Premier League"
   ]
  },
  {
   "cell_type": "raw",
   "metadata": {},
   "source": [
    "We saw that the calculated amount of goals in average fits the real distribution. But how can we predict the amount of goals for a match between Liverpool and Chelsea? The answer is a Poission Regression:"
   ]
  },
  {
   "cell_type": "code",
   "execution_count": 6,
   "metadata": {
    "ExecuteTime": {
     "end_time": "2019-10-18T14:33:28.449938Z",
     "start_time": "2019-10-18T14:33:25.330318Z"
    },
    "scrolled": false
   },
   "outputs": [
    {
     "data": {
      "text/html": [
       "<table class=\"simpletable\">\n",
       "<caption>Generalized Linear Model Regression Results</caption>\n",
       "<tr>\n",
       "  <th>Dep. Variable:</th>        <td>goals</td>      <th>  No. Observations:  </th>  <td>   740</td>  \n",
       "</tr>\n",
       "<tr>\n",
       "  <th>Model:</th>                 <td>GLM</td>       <th>  Df Residuals:      </th>  <td>   700</td>  \n",
       "</tr>\n",
       "<tr>\n",
       "  <th>Model Family:</th>        <td>Poisson</td>     <th>  Df Model:          </th>  <td>    39</td>  \n",
       "</tr>\n",
       "<tr>\n",
       "  <th>Link Function:</th>         <td>log</td>       <th>  Scale:             </th> <td>  1.0000</td> \n",
       "</tr>\n",
       "<tr>\n",
       "  <th>Method:</th>               <td>IRLS</td>       <th>  Log-Likelihood:    </th> <td> -1030.1</td> \n",
       "</tr>\n",
       "<tr>\n",
       "  <th>Date:</th>           <td>Fri, 18 Oct 2019</td> <th>  Deviance:          </th> <td>  732.30</td> \n",
       "</tr>\n",
       "<tr>\n",
       "  <th>Time:</th>               <td>16:33:28</td>     <th>  Pearson chi2:      </th>  <td>  634.</td>  \n",
       "</tr>\n",
       "<tr>\n",
       "  <th>No. Iterations:</th>         <td>5</td>        <th>  Covariance Type:   </th> <td>nonrobust</td>\n",
       "</tr>\n",
       "</table>\n",
       "<table class=\"simpletable\">\n",
       "<tr>\n",
       "               <td></td>                 <th>coef</th>     <th>std err</th>      <th>z</th>      <th>P>|z|</th>  <th>[0.025</th>    <th>0.975]</th>  \n",
       "</tr>\n",
       "<tr>\n",
       "  <th>Intercept</th>                  <td>    0.4925</td> <td>    0.192</td> <td>    2.572</td> <td> 0.010</td> <td>    0.117</td> <td>    0.868</td>\n",
       "</tr>\n",
       "<tr>\n",
       "  <th>team[T.Bournemouth]</th>        <td>   -0.2703</td> <td>    0.183</td> <td>   -1.481</td> <td> 0.139</td> <td>   -0.628</td> <td>    0.087</td>\n",
       "</tr>\n",
       "<tr>\n",
       "  <th>team[T.Brighton]</th>           <td>   -0.7334</td> <td>    0.209</td> <td>   -3.503</td> <td> 0.000</td> <td>   -1.144</td> <td>   -0.323</td>\n",
       "</tr>\n",
       "<tr>\n",
       "  <th>team[T.Burnley]</th>            <td>   -0.4493</td> <td>    0.192</td> <td>   -2.334</td> <td> 0.020</td> <td>   -0.827</td> <td>   -0.072</td>\n",
       "</tr>\n",
       "<tr>\n",
       "  <th>team[T.Cardiff]</th>            <td>   -0.7702</td> <td>    0.214</td> <td>   -3.603</td> <td> 0.000</td> <td>   -1.189</td> <td>   -0.351</td>\n",
       "</tr>\n",
       "<tr>\n",
       "  <th>team[T.Chelsea]</th>            <td>   -0.1249</td> <td>    0.174</td> <td>   -0.718</td> <td> 0.473</td> <td>   -0.466</td> <td>    0.216</td>\n",
       "</tr>\n",
       "<tr>\n",
       "  <th>team[T.Crystal Palace]</th>     <td>   -0.4125</td> <td>    0.190</td> <td>   -2.169</td> <td> 0.030</td> <td>   -0.785</td> <td>   -0.040</td>\n",
       "</tr>\n",
       "<tr>\n",
       "  <th>team[T.Everton]</th>            <td>   -0.3165</td> <td>    0.183</td> <td>   -1.726</td> <td> 0.084</td> <td>   -0.676</td> <td>    0.043</td>\n",
       "</tr>\n",
       "<tr>\n",
       "  <th>team[T.Fulham]</th>             <td>   -0.6986</td> <td>    0.209</td> <td>   -3.335</td> <td> 0.001</td> <td>   -1.109</td> <td>   -0.288</td>\n",
       "</tr>\n",
       "<tr>\n",
       "  <th>team[T.Huddersfield]</th>       <td>   -1.1820</td> <td>    0.249</td> <td>   -4.744</td> <td> 0.000</td> <td>   -1.670</td> <td>   -0.694</td>\n",
       "</tr>\n",
       "<tr>\n",
       "  <th>team[T.Leicester]</th>          <td>   -0.3261</td> <td>    0.184</td> <td>   -1.768</td> <td> 0.077</td> <td>   -0.688</td> <td>    0.035</td>\n",
       "</tr>\n",
       "<tr>\n",
       "  <th>team[T.Liverpool]</th>          <td>    0.1849</td> <td>    0.161</td> <td>    1.149</td> <td> 0.251</td> <td>   -0.130</td> <td>    0.500</td>\n",
       "</tr>\n",
       "<tr>\n",
       "  <th>team[T.Man City]</th>           <td>    0.2291</td> <td>    0.159</td> <td>    1.438</td> <td> 0.150</td> <td>   -0.083</td> <td>    0.541</td>\n",
       "</tr>\n",
       "<tr>\n",
       "  <th>team[T.Man United]</th>         <td>   -0.0621</td> <td>    0.173</td> <td>   -0.360</td> <td> 0.719</td> <td>   -0.401</td> <td>    0.276</td>\n",
       "</tr>\n",
       "<tr>\n",
       "  <th>team[T.Newcastle]</th>          <td>   -0.6104</td> <td>    0.202</td> <td>   -3.024</td> <td> 0.002</td> <td>   -1.006</td> <td>   -0.215</td>\n",
       "</tr>\n",
       "<tr>\n",
       "  <th>team[T.Southampton]</th>        <td>   -0.4387</td> <td>    0.193</td> <td>   -2.275</td> <td> 0.023</td> <td>   -0.817</td> <td>   -0.061</td>\n",
       "</tr>\n",
       "<tr>\n",
       "  <th>team[T.Tottenham]</th>          <td>   -0.0917</td> <td>    0.173</td> <td>   -0.531</td> <td> 0.595</td> <td>   -0.430</td> <td>    0.247</td>\n",
       "</tr>\n",
       "<tr>\n",
       "  <th>team[T.Watford]</th>            <td>   -0.3106</td> <td>    0.185</td> <td>   -1.683</td> <td> 0.092</td> <td>   -0.672</td> <td>    0.051</td>\n",
       "</tr>\n",
       "<tr>\n",
       "  <th>team[T.West Ham]</th>           <td>   -0.3788</td> <td>    0.188</td> <td>   -2.017</td> <td> 0.044</td> <td>   -0.747</td> <td>   -0.011</td>\n",
       "</tr>\n",
       "<tr>\n",
       "  <th>team[T.Wolves]</th>             <td>   -0.4239</td> <td>    0.189</td> <td>   -2.244</td> <td> 0.025</td> <td>   -0.794</td> <td>   -0.054</td>\n",
       "</tr>\n",
       "<tr>\n",
       "  <th>opponent[T.Bournemouth]</th>    <td>    0.2458</td> <td>    0.189</td> <td>    1.303</td> <td> 0.192</td> <td>   -0.124</td> <td>    0.615</td>\n",
       "</tr>\n",
       "<tr>\n",
       "  <th>opponent[T.Brighton]</th>       <td>    0.0890</td> <td>    0.195</td> <td>    0.456</td> <td> 0.648</td> <td>   -0.293</td> <td>    0.471</td>\n",
       "</tr>\n",
       "<tr>\n",
       "  <th>opponent[T.Burnley]</th>        <td>    0.2413</td> <td>    0.188</td> <td>    1.282</td> <td> 0.200</td> <td>   -0.128</td> <td>    0.610</td>\n",
       "</tr>\n",
       "<tr>\n",
       "  <th>opponent[T.Cardiff]</th>        <td>    0.2950</td> <td>    0.186</td> <td>    1.585</td> <td> 0.113</td> <td>   -0.070</td> <td>    0.660</td>\n",
       "</tr>\n",
       "<tr>\n",
       "  <th>opponent[T.Chelsea]</th>        <td>   -0.2537</td> <td>    0.214</td> <td>   -1.185</td> <td> 0.236</td> <td>   -0.673</td> <td>    0.166</td>\n",
       "</tr>\n",
       "<tr>\n",
       "  <th>opponent[T.Crystal Palace]</th> <td>   -0.0269</td> <td>    0.200</td> <td>   -0.134</td> <td> 0.893</td> <td>   -0.420</td> <td>    0.366</td>\n",
       "</tr>\n",
       "<tr>\n",
       "  <th>opponent[T.Everton]</th>        <td>   -0.1366</td> <td>    0.207</td> <td>   -0.659</td> <td> 0.510</td> <td>   -0.543</td> <td>    0.269</td>\n",
       "</tr>\n",
       "<tr>\n",
       "  <th>opponent[T.Fulham]</th>         <td>    0.3861</td> <td>    0.182</td> <td>    2.121</td> <td> 0.034</td> <td>    0.029</td> <td>    0.743</td>\n",
       "</tr>\n",
       "<tr>\n",
       "  <th>opponent[T.Huddersfield]</th>   <td>    0.3551</td> <td>    0.183</td> <td>    1.941</td> <td> 0.052</td> <td>   -0.003</td> <td>    0.714</td>\n",
       "</tr>\n",
       "<tr>\n",
       "  <th>opponent[T.Leicester]</th>      <td>   -0.0595</td> <td>    0.202</td> <td>   -0.294</td> <td> 0.769</td> <td>   -0.456</td> <td>    0.337</td>\n",
       "</tr>\n",
       "<tr>\n",
       "  <th>opponent[T.Liverpool]</th>      <td>   -0.8112</td> <td>    0.256</td> <td>   -3.166</td> <td> 0.002</td> <td>   -1.313</td> <td>   -0.309</td>\n",
       "</tr>\n",
       "<tr>\n",
       "  <th>opponent[T.Man City]</th>       <td>   -0.8083</td> <td>    0.256</td> <td>   -3.154</td> <td> 0.002</td> <td>   -1.311</td> <td>   -0.306</td>\n",
       "</tr>\n",
       "<tr>\n",
       "  <th>opponent[T.Man United]</th>     <td>    0.0231</td> <td>    0.199</td> <td>    0.116</td> <td> 0.907</td> <td>   -0.366</td> <td>    0.412</td>\n",
       "</tr>\n",
       "<tr>\n",
       "  <th>opponent[T.Newcastle]</th>      <td>   -0.0802</td> <td>    0.202</td> <td>   -0.396</td> <td> 0.692</td> <td>   -0.477</td> <td>    0.317</td>\n",
       "</tr>\n",
       "<tr>\n",
       "  <th>opponent[T.Southampton]</th>    <td>    0.2043</td> <td>    0.189</td> <td>    1.080</td> <td> 0.280</td> <td>   -0.166</td> <td>    0.575</td>\n",
       "</tr>\n",
       "<tr>\n",
       "  <th>opponent[T.Tottenham]</th>      <td>   -0.3107</td> <td>    0.217</td> <td>   -1.430</td> <td> 0.153</td> <td>   -0.737</td> <td>    0.115</td>\n",
       "</tr>\n",
       "<tr>\n",
       "  <th>opponent[T.Watford]</th>        <td>    0.0711</td> <td>    0.196</td> <td>    0.363</td> <td> 0.716</td> <td>   -0.313</td> <td>    0.455</td>\n",
       "</tr>\n",
       "<tr>\n",
       "  <th>opponent[T.West Ham]</th>       <td>    0.0575</td> <td>    0.197</td> <td>    0.293</td> <td> 0.770</td> <td>   -0.328</td> <td>    0.443</td>\n",
       "</tr>\n",
       "<tr>\n",
       "  <th>opponent[T.Wolves]</th>         <td>   -0.1299</td> <td>    0.207</td> <td>   -0.627</td> <td> 0.531</td> <td>   -0.536</td> <td>    0.276</td>\n",
       "</tr>\n",
       "<tr>\n",
       "  <th>home</th>                       <td>    0.2526</td> <td>    0.063</td> <td>    4.031</td> <td> 0.000</td> <td>    0.130</td> <td>    0.375</td>\n",
       "</tr>\n",
       "</table>"
      ],
      "text/plain": [
       "<class 'statsmodels.iolib.summary.Summary'>\n",
       "\"\"\"\n",
       "                 Generalized Linear Model Regression Results                  \n",
       "==============================================================================\n",
       "Dep. Variable:                  goals   No. Observations:                  740\n",
       "Model:                            GLM   Df Residuals:                      700\n",
       "Model Family:                 Poisson   Df Model:                           39\n",
       "Link Function:                    log   Scale:                          1.0000\n",
       "Method:                          IRLS   Log-Likelihood:                -1030.1\n",
       "Date:                Fri, 18 Oct 2019   Deviance:                       732.30\n",
       "Time:                        16:33:28   Pearson chi2:                     634.\n",
       "No. Iterations:                     5   Covariance Type:             nonrobust\n",
       "==============================================================================================\n",
       "                                 coef    std err          z      P>|z|      [0.025      0.975]\n",
       "----------------------------------------------------------------------------------------------\n",
       "Intercept                      0.4925      0.192      2.572      0.010       0.117       0.868\n",
       "team[T.Bournemouth]           -0.2703      0.183     -1.481      0.139      -0.628       0.087\n",
       "team[T.Brighton]              -0.7334      0.209     -3.503      0.000      -1.144      -0.323\n",
       "team[T.Burnley]               -0.4493      0.192     -2.334      0.020      -0.827      -0.072\n",
       "team[T.Cardiff]               -0.7702      0.214     -3.603      0.000      -1.189      -0.351\n",
       "team[T.Chelsea]               -0.1249      0.174     -0.718      0.473      -0.466       0.216\n",
       "team[T.Crystal Palace]        -0.4125      0.190     -2.169      0.030      -0.785      -0.040\n",
       "team[T.Everton]               -0.3165      0.183     -1.726      0.084      -0.676       0.043\n",
       "team[T.Fulham]                -0.6986      0.209     -3.335      0.001      -1.109      -0.288\n",
       "team[T.Huddersfield]          -1.1820      0.249     -4.744      0.000      -1.670      -0.694\n",
       "team[T.Leicester]             -0.3261      0.184     -1.768      0.077      -0.688       0.035\n",
       "team[T.Liverpool]              0.1849      0.161      1.149      0.251      -0.130       0.500\n",
       "team[T.Man City]               0.2291      0.159      1.438      0.150      -0.083       0.541\n",
       "team[T.Man United]            -0.0621      0.173     -0.360      0.719      -0.401       0.276\n",
       "team[T.Newcastle]             -0.6104      0.202     -3.024      0.002      -1.006      -0.215\n",
       "team[T.Southampton]           -0.4387      0.193     -2.275      0.023      -0.817      -0.061\n",
       "team[T.Tottenham]             -0.0917      0.173     -0.531      0.595      -0.430       0.247\n",
       "team[T.Watford]               -0.3106      0.185     -1.683      0.092      -0.672       0.051\n",
       "team[T.West Ham]              -0.3788      0.188     -2.017      0.044      -0.747      -0.011\n",
       "team[T.Wolves]                -0.4239      0.189     -2.244      0.025      -0.794      -0.054\n",
       "opponent[T.Bournemouth]        0.2458      0.189      1.303      0.192      -0.124       0.615\n",
       "opponent[T.Brighton]           0.0890      0.195      0.456      0.648      -0.293       0.471\n",
       "opponent[T.Burnley]            0.2413      0.188      1.282      0.200      -0.128       0.610\n",
       "opponent[T.Cardiff]            0.2950      0.186      1.585      0.113      -0.070       0.660\n",
       "opponent[T.Chelsea]           -0.2537      0.214     -1.185      0.236      -0.673       0.166\n",
       "opponent[T.Crystal Palace]    -0.0269      0.200     -0.134      0.893      -0.420       0.366\n",
       "opponent[T.Everton]           -0.1366      0.207     -0.659      0.510      -0.543       0.269\n",
       "opponent[T.Fulham]             0.3861      0.182      2.121      0.034       0.029       0.743\n",
       "opponent[T.Huddersfield]       0.3551      0.183      1.941      0.052      -0.003       0.714\n",
       "opponent[T.Leicester]         -0.0595      0.202     -0.294      0.769      -0.456       0.337\n",
       "opponent[T.Liverpool]         -0.8112      0.256     -3.166      0.002      -1.313      -0.309\n",
       "opponent[T.Man City]          -0.8083      0.256     -3.154      0.002      -1.311      -0.306\n",
       "opponent[T.Man United]         0.0231      0.199      0.116      0.907      -0.366       0.412\n",
       "opponent[T.Newcastle]         -0.0802      0.202     -0.396      0.692      -0.477       0.317\n",
       "opponent[T.Southampton]        0.2043      0.189      1.080      0.280      -0.166       0.575\n",
       "opponent[T.Tottenham]         -0.3107      0.217     -1.430      0.153      -0.737       0.115\n",
       "opponent[T.Watford]            0.0711      0.196      0.363      0.716      -0.313       0.455\n",
       "opponent[T.West Ham]           0.0575      0.197      0.293      0.770      -0.328       0.443\n",
       "opponent[T.Wolves]            -0.1299      0.207     -0.627      0.531      -0.536       0.276\n",
       "home                           0.2526      0.063      4.031      0.000       0.130       0.375\n",
       "==============================================================================================\n",
       "\"\"\""
      ]
     },
     "execution_count": 6,
     "metadata": {},
     "output_type": "execute_result"
    }
   ],
   "source": [
    "import statsmodels.api as sm\n",
    "import statsmodels.formula.api as smf\n",
    "\n",
    "goal_model_data = pd.concat([epl_1819[['HomeTeam','AwayTeam','HomeGoals']].assign(home=1).rename(\n",
    "            columns={'HomeTeam':'team', 'AwayTeam':'opponent','HomeGoals':'goals'}),\n",
    "           epl_1819[['AwayTeam','HomeTeam','AwayGoals']].assign(home=0).rename(\n",
    "            columns={'AwayTeam':'team', 'HomeTeam':'opponent','AwayGoals':'goals'})])\n",
    "\n",
    "poisson_model = smf.glm(formula=\"goals ~ home + team + opponent\", data=goal_model_data, \n",
    "                        family=sm.families.Poisson()).fit()\n",
    "poisson_model.summary()"
   ]
  },
  {
   "cell_type": "raw",
   "metadata": {},
   "source": [
    "We will focus on the main aspects of this regression. The number of observations is 740 (37 matchdays for 20 teams). In the first line we see an entry named \"Intercept\". This is the baseline rate and all other eastimations are relative to it. The team coefficient for Liverpool is 0.1849 which means that Liverpool scores more goals than average teams. The lower the coefficient, the fewer goals a team shoots on average.\n",
    "The opponent coefficient for Chelsea is -0.2537. Chelsea receives less goals than an average team. The lower the coefficient, the fewer goals a teams receives on average. The last row \"home 0.2526\" is the expression of home advantage: home teams score more goals in average.\n",
    "To calculate the estimated amount of goals for Liverpool we use the following formula:"
   ]
  },
  {
   "cell_type": "raw",
   "metadata": {},
   "source": [
    "exp(Intercept+Coefficients)"
   ]
  },
  {
   "cell_type": "raw",
   "metadata": {},
   "source": [
    "So let´s fill our formula for a) Liverpool and b) Chelsea:"
   ]
  },
  {
   "cell_type": "code",
   "execution_count": 7,
   "metadata": {
    "ExecuteTime": {
     "end_time": "2019-10-18T14:33:28.463898Z",
     "start_time": "2019-10-18T14:33:28.452928Z"
    }
   },
   "outputs": [
    {
     "data": {
      "text/plain": [
       "1.9664499835694367"
      ]
     },
     "metadata": {},
     "output_type": "display_data"
    },
    {
     "data": {
      "text/plain": [
       "0.6417515745827408"
      ]
     },
     "metadata": {},
     "output_type": "display_data"
    }
   ],
   "source": [
    "liverpool_home_goals = 2.718**(0.4925+0.1849-0.2537+0.2526)\n",
    "chelsea_away_goals = 2.718**(0.4925-0.1249-0.8112)\n",
    "display(liverpool_home_goals)\n",
    "display(chelsea_away_goals)"
   ]
  },
  {
   "cell_type": "raw",
   "metadata": {},
   "source": [
    "Notice that we add the \"home\"-coeffienct (0.2526) just for Liverpool. The prediction would be 2:1, so we expect Liverpool to win. Now let´s compare our prediction with the last matchday:"
   ]
  },
  {
   "cell_type": "markdown",
   "metadata": {},
   "source": [
    "## Testing the last matchday"
   ]
  },
  {
   "cell_type": "code",
   "execution_count": 8,
   "metadata": {
    "ExecuteTime": {
     "end_time": "2019-10-18T14:33:28.496810Z",
     "start_time": "2019-10-18T14:33:28.466893Z"
    }
   },
   "outputs": [],
   "source": [
    "epl_1819_test = epl_1819_test.reset_index()"
   ]
  },
  {
   "cell_type": "code",
   "execution_count": 9,
   "metadata": {
    "ExecuteTime": {
     "end_time": "2019-10-18T14:33:28.513768Z",
     "start_time": "2019-10-18T14:33:28.500800Z"
    }
   },
   "outputs": [],
   "source": [
    "def simulate_match(foot_model, homeTeam, awayTeam, max_goals=10):\n",
    "    home_goals_avg = foot_model.predict(pd.DataFrame(data={'team': homeTeam, \n",
    "                                                            'opponent': awayTeam,'home':1},\n",
    "                                                      index=[1])).values[0]\n",
    "    away_goals_avg = foot_model.predict(pd.DataFrame(data={'team': awayTeam, \n",
    "                                                            'opponent': homeTeam,'home':0},\n",
    "                                                      index=[1])).values[0]\n",
    "    team_pred = [[poisson.pmf(i, team_avg) for i in range(0, max_goals+1)] for team_avg in [home_goals_avg, away_goals_avg]]\n",
    "    return(np.outer(np.array(team_pred[0]), np.array(team_pred[1])))\n"
   ]
  },
  {
   "cell_type": "code",
   "execution_count": 10,
   "metadata": {
    "ExecuteTime": {
     "end_time": "2019-10-18T14:33:28.690358Z",
     "start_time": "2019-10-18T14:33:28.517763Z"
    }
   },
   "outputs": [],
   "source": [
    "from numpy import unravel_index\n",
    "\n",
    "home_match = []\n",
    "away_match = []\n",
    "home_goals = []\n",
    "away_goals = []\n",
    "pred_list_home = []\n",
    "pred_list_away = []\n",
    "\n",
    "for n in range(0,len(epl_1819_test['HomeTeam'])):\n",
    "\n",
    "    a = simulate_match(poisson_model, epl_1819_test['HomeTeam'].loc[n], epl_1819_test['AwayTeam'].loc[n], max_goals=7)\n",
    "    b = unravel_index(a.argmax(), a.shape)\n",
    "    \n",
    "    home_match.append(epl_1819_test['HomeTeam'].loc[n])\n",
    "    away_match.append(epl_1819_test['AwayTeam'].loc[n])\n",
    "    home_goals.append(epl_1819_test['HomeGoals'].loc[n])\n",
    "    away_goals.append(epl_1819_test['AwayGoals'].loc[n])\n",
    "    pred_list_home.append(b[0])\n",
    "    pred_list_away.append(b[1])\n",
    "    \n",
    "    #pred_list_home.append(result)\n",
    "    #pred_list_away.append(result2)\n",
    "\n",
    "final_df = pd.DataFrame({'Home': home_match, 'Away': away_match,\n",
    "                         'Home Goals': home_goals, 'Away Goals': away_goals,\n",
    "                         'Home Prediction': pred_list_home, 'Away Prediction': pred_list_away})"
   ]
  },
  {
   "cell_type": "code",
   "execution_count": 11,
   "metadata": {
    "ExecuteTime": {
     "end_time": "2019-10-18T14:33:28.705284Z",
     "start_time": "2019-10-18T14:33:28.692329Z"
    }
   },
   "outputs": [],
   "source": [
    "def transform_df(mod_df):\n",
    "    mod_df.loc[(mod_df['Home Goals'] > mod_df['Away Goals']), '1x2'] = '1'\n",
    "    mod_df.loc[(mod_df['Home Goals'] == mod_df['Away Goals']), '1x2'] = 'X'\n",
    "    mod_df.loc[(mod_df['Home Goals'] < mod_df['Away Goals']), '1x2'] = '2'\n",
    "    \n",
    "    mod_df['Home Prediction Int'] = mod_df['Home Prediction'].round(0).astype(int)\n",
    "    mod_df['Away Prediction Int'] = mod_df['Away Prediction'].round(0).astype(int)\n",
    "    mod_df.loc[(mod_df['Home Prediction Int'] > mod_df['Away Prediction Int']), '1x2_Pred'] = '1'\n",
    "    mod_df.loc[(mod_df['Home Prediction Int'] == mod_df['Away Prediction Int']), '1x2_Pred'] = 'X'\n",
    "    mod_df.loc[(mod_df['Home Prediction Int'] < mod_df['Away Prediction Int']), '1x2_Pred'] = '2'\n",
    "    \n",
    "    mod_df['Exact_Res'] = 'NO'\n",
    "    mod_df.loc[(mod_df['Home Goals'] == mod_df['Home Prediction Int']) & \n",
    "               (mod_df['Away Goals'] == mod_df['Away Prediction Int']), 'Exact_Res'] = 'YES'\n",
    "    \n",
    "    mod_df.loc[mod_df['1x2'] == mod_df['1x2_Pred'], 'Match'] = 'Yes'\n",
    "    mod_df.loc[mod_df['1x2'] != mod_df['1x2_Pred'], 'Match'] = 'No'\n",
    "    return mod_df"
   ]
  },
  {
   "cell_type": "code",
   "execution_count": 12,
   "metadata": {
    "ExecuteTime": {
     "end_time": "2019-10-18T14:33:28.774104Z",
     "start_time": "2019-10-18T14:33:28.708244Z"
    },
    "scrolled": false
   },
   "outputs": [
    {
     "data": {
      "text/html": [
       "<div>\n",
       "<style scoped>\n",
       "    .dataframe tbody tr th:only-of-type {\n",
       "        vertical-align: middle;\n",
       "    }\n",
       "\n",
       "    .dataframe tbody tr th {\n",
       "        vertical-align: top;\n",
       "    }\n",
       "\n",
       "    .dataframe thead th {\n",
       "        text-align: right;\n",
       "    }\n",
       "</style>\n",
       "<table border=\"1\" class=\"dataframe\">\n",
       "  <thead>\n",
       "    <tr style=\"text-align: right;\">\n",
       "      <th></th>\n",
       "      <th>Home</th>\n",
       "      <th>Away</th>\n",
       "      <th>Home Goals</th>\n",
       "      <th>Away Goals</th>\n",
       "      <th>Home Prediction</th>\n",
       "      <th>Away Prediction</th>\n",
       "      <th>1x2</th>\n",
       "      <th>Home Prediction Int</th>\n",
       "      <th>Away Prediction Int</th>\n",
       "      <th>1x2_Pred</th>\n",
       "      <th>Exact_Res</th>\n",
       "      <th>Match</th>\n",
       "    </tr>\n",
       "  </thead>\n",
       "  <tbody>\n",
       "    <tr>\n",
       "      <th>0</th>\n",
       "      <td>Brighton</td>\n",
       "      <td>Man City</td>\n",
       "      <td>1</td>\n",
       "      <td>4</td>\n",
       "      <td>0</td>\n",
       "      <td>2</td>\n",
       "      <td>2</td>\n",
       "      <td>0</td>\n",
       "      <td>2</td>\n",
       "      <td>2</td>\n",
       "      <td>NO</td>\n",
       "      <td>Yes</td>\n",
       "    </tr>\n",
       "    <tr>\n",
       "      <th>1</th>\n",
       "      <td>Burnley</td>\n",
       "      <td>Arsenal</td>\n",
       "      <td>1</td>\n",
       "      <td>3</td>\n",
       "      <td>1</td>\n",
       "      <td>2</td>\n",
       "      <td>2</td>\n",
       "      <td>1</td>\n",
       "      <td>2</td>\n",
       "      <td>2</td>\n",
       "      <td>NO</td>\n",
       "      <td>Yes</td>\n",
       "    </tr>\n",
       "    <tr>\n",
       "      <th>2</th>\n",
       "      <td>Crystal Palace</td>\n",
       "      <td>Bournemouth</td>\n",
       "      <td>5</td>\n",
       "      <td>3</td>\n",
       "      <td>1</td>\n",
       "      <td>1</td>\n",
       "      <td>1</td>\n",
       "      <td>1</td>\n",
       "      <td>1</td>\n",
       "      <td>X</td>\n",
       "      <td>NO</td>\n",
       "      <td>No</td>\n",
       "    </tr>\n",
       "    <tr>\n",
       "      <th>3</th>\n",
       "      <td>Fulham</td>\n",
       "      <td>Newcastle</td>\n",
       "      <td>0</td>\n",
       "      <td>4</td>\n",
       "      <td>0</td>\n",
       "      <td>1</td>\n",
       "      <td>2</td>\n",
       "      <td>0</td>\n",
       "      <td>1</td>\n",
       "      <td>2</td>\n",
       "      <td>NO</td>\n",
       "      <td>Yes</td>\n",
       "    </tr>\n",
       "    <tr>\n",
       "      <th>4</th>\n",
       "      <td>Leicester</td>\n",
       "      <td>Chelsea</td>\n",
       "      <td>0</td>\n",
       "      <td>0</td>\n",
       "      <td>1</td>\n",
       "      <td>1</td>\n",
       "      <td>X</td>\n",
       "      <td>1</td>\n",
       "      <td>1</td>\n",
       "      <td>X</td>\n",
       "      <td>NO</td>\n",
       "      <td>Yes</td>\n",
       "    </tr>\n",
       "    <tr>\n",
       "      <th>5</th>\n",
       "      <td>Liverpool</td>\n",
       "      <td>Wolves</td>\n",
       "      <td>2</td>\n",
       "      <td>0</td>\n",
       "      <td>2</td>\n",
       "      <td>0</td>\n",
       "      <td>1</td>\n",
       "      <td>2</td>\n",
       "      <td>0</td>\n",
       "      <td>1</td>\n",
       "      <td>YES</td>\n",
       "      <td>Yes</td>\n",
       "    </tr>\n",
       "    <tr>\n",
       "      <th>6</th>\n",
       "      <td>Man United</td>\n",
       "      <td>Cardiff</td>\n",
       "      <td>0</td>\n",
       "      <td>2</td>\n",
       "      <td>2</td>\n",
       "      <td>0</td>\n",
       "      <td>2</td>\n",
       "      <td>2</td>\n",
       "      <td>0</td>\n",
       "      <td>1</td>\n",
       "      <td>NO</td>\n",
       "      <td>No</td>\n",
       "    </tr>\n",
       "    <tr>\n",
       "      <th>7</th>\n",
       "      <td>Southampton</td>\n",
       "      <td>Huddersfield</td>\n",
       "      <td>1</td>\n",
       "      <td>1</td>\n",
       "      <td>1</td>\n",
       "      <td>0</td>\n",
       "      <td>X</td>\n",
       "      <td>1</td>\n",
       "      <td>0</td>\n",
       "      <td>1</td>\n",
       "      <td>NO</td>\n",
       "      <td>No</td>\n",
       "    </tr>\n",
       "    <tr>\n",
       "      <th>8</th>\n",
       "      <td>Tottenham</td>\n",
       "      <td>Everton</td>\n",
       "      <td>2</td>\n",
       "      <td>2</td>\n",
       "      <td>1</td>\n",
       "      <td>0</td>\n",
       "      <td>X</td>\n",
       "      <td>1</td>\n",
       "      <td>0</td>\n",
       "      <td>1</td>\n",
       "      <td>NO</td>\n",
       "      <td>No</td>\n",
       "    </tr>\n",
       "    <tr>\n",
       "      <th>9</th>\n",
       "      <td>Watford</td>\n",
       "      <td>West Ham</td>\n",
       "      <td>1</td>\n",
       "      <td>4</td>\n",
       "      <td>1</td>\n",
       "      <td>1</td>\n",
       "      <td>2</td>\n",
       "      <td>1</td>\n",
       "      <td>1</td>\n",
       "      <td>X</td>\n",
       "      <td>NO</td>\n",
       "      <td>No</td>\n",
       "    </tr>\n",
       "  </tbody>\n",
       "</table>\n",
       "</div>"
      ],
      "text/plain": [
       "             Home          Away  Home Goals  Away Goals  Home Prediction  \\\n",
       "0        Brighton      Man City           1           4                0   \n",
       "1         Burnley       Arsenal           1           3                1   \n",
       "2  Crystal Palace   Bournemouth           5           3                1   \n",
       "3          Fulham     Newcastle           0           4                0   \n",
       "4       Leicester       Chelsea           0           0                1   \n",
       "5       Liverpool        Wolves           2           0                2   \n",
       "6      Man United       Cardiff           0           2                2   \n",
       "7     Southampton  Huddersfield           1           1                1   \n",
       "8       Tottenham       Everton           2           2                1   \n",
       "9         Watford      West Ham           1           4                1   \n",
       "\n",
       "   Away Prediction 1x2  Home Prediction Int  Away Prediction Int 1x2_Pred  \\\n",
       "0                2   2                    0                    2        2   \n",
       "1                2   2                    1                    2        2   \n",
       "2                1   1                    1                    1        X   \n",
       "3                1   2                    0                    1        2   \n",
       "4                1   X                    1                    1        X   \n",
       "5                0   1                    2                    0        1   \n",
       "6                0   2                    2                    0        1   \n",
       "7                0   X                    1                    0        1   \n",
       "8                0   X                    1                    0        1   \n",
       "9                1   2                    1                    1        X   \n",
       "\n",
       "  Exact_Res Match  \n",
       "0        NO   Yes  \n",
       "1        NO   Yes  \n",
       "2        NO    No  \n",
       "3        NO   Yes  \n",
       "4        NO   Yes  \n",
       "5       YES   Yes  \n",
       "6        NO    No  \n",
       "7        NO    No  \n",
       "8        NO    No  \n",
       "9        NO    No  "
      ]
     },
     "execution_count": 12,
     "metadata": {},
     "output_type": "execute_result"
    }
   ],
   "source": [
    "transform_df(final_df)"
   ]
  },
  {
   "cell_type": "code",
   "execution_count": 13,
   "metadata": {
    "ExecuteTime": {
     "end_time": "2019-10-18T14:33:28.787037Z",
     "start_time": "2019-10-18T14:33:28.777064Z"
    }
   },
   "outputs": [],
   "source": [
    "final_df.loc[final_df['1x2'] == final_df['1x2_Pred'], 'Match'] = 'Yes'\n",
    "final_df.loc[final_df['1x2'] != final_df['1x2_Pred'], 'Match'] = 'No'"
   ]
  },
  {
   "cell_type": "code",
   "execution_count": 14,
   "metadata": {
    "ExecuteTime": {
     "end_time": "2019-10-18T14:33:28.799003Z",
     "start_time": "2019-10-18T14:33:28.790062Z"
    }
   },
   "outputs": [
    {
     "data": {
      "text/plain": [
       "Index(['Home', 'Away', 'Home Goals', 'Away Goals', 'Home Prediction',\n",
       "       'Away Prediction', '1x2', 'Home Prediction Int', 'Away Prediction Int',\n",
       "       '1x2_Pred', 'Exact_Res', 'Match'],\n",
       "      dtype='object')"
      ]
     },
     "execution_count": 14,
     "metadata": {},
     "output_type": "execute_result"
    }
   ],
   "source": [
    "final_df.columns"
   ]
  },
  {
   "cell_type": "code",
   "execution_count": 15,
   "metadata": {
    "ExecuteTime": {
     "end_time": "2019-10-18T14:33:28.810008Z",
     "start_time": "2019-10-18T14:33:28.801994Z"
    }
   },
   "outputs": [],
   "source": [
    "final_df_s = final_df[['Home', 'Away', 'Home Goals', 'Away Goals', 'Home Prediction',\n",
    "       'Away Prediction', '1x2',\n",
    "       '1x2_Pred', 'Match']]"
   ]
  },
  {
   "cell_type": "code",
   "execution_count": 16,
   "metadata": {
    "ExecuteTime": {
     "end_time": "2019-10-18T14:33:28.830918Z",
     "start_time": "2019-10-18T14:33:28.812996Z"
    },
    "scrolled": true
   },
   "outputs": [
    {
     "data": {
      "text/html": [
       "<div>\n",
       "<style scoped>\n",
       "    .dataframe tbody tr th:only-of-type {\n",
       "        vertical-align: middle;\n",
       "    }\n",
       "\n",
       "    .dataframe tbody tr th {\n",
       "        vertical-align: top;\n",
       "    }\n",
       "\n",
       "    .dataframe thead th {\n",
       "        text-align: right;\n",
       "    }\n",
       "</style>\n",
       "<table border=\"1\" class=\"dataframe\">\n",
       "  <thead>\n",
       "    <tr style=\"text-align: right;\">\n",
       "      <th></th>\n",
       "      <th>Home</th>\n",
       "      <th>Away</th>\n",
       "      <th>Home Goals</th>\n",
       "      <th>Away Goals</th>\n",
       "      <th>Home Prediction</th>\n",
       "      <th>Away Prediction</th>\n",
       "      <th>1x2</th>\n",
       "      <th>1x2_Pred</th>\n",
       "      <th>Match</th>\n",
       "    </tr>\n",
       "  </thead>\n",
       "  <tbody>\n",
       "    <tr>\n",
       "      <th>0</th>\n",
       "      <td>Brighton</td>\n",
       "      <td>Man City</td>\n",
       "      <td>1</td>\n",
       "      <td>4</td>\n",
       "      <td>0</td>\n",
       "      <td>2</td>\n",
       "      <td>2</td>\n",
       "      <td>2</td>\n",
       "      <td>Yes</td>\n",
       "    </tr>\n",
       "    <tr>\n",
       "      <th>1</th>\n",
       "      <td>Burnley</td>\n",
       "      <td>Arsenal</td>\n",
       "      <td>1</td>\n",
       "      <td>3</td>\n",
       "      <td>1</td>\n",
       "      <td>2</td>\n",
       "      <td>2</td>\n",
       "      <td>2</td>\n",
       "      <td>Yes</td>\n",
       "    </tr>\n",
       "    <tr>\n",
       "      <th>2</th>\n",
       "      <td>Crystal Palace</td>\n",
       "      <td>Bournemouth</td>\n",
       "      <td>5</td>\n",
       "      <td>3</td>\n",
       "      <td>1</td>\n",
       "      <td>1</td>\n",
       "      <td>1</td>\n",
       "      <td>X</td>\n",
       "      <td>No</td>\n",
       "    </tr>\n",
       "    <tr>\n",
       "      <th>3</th>\n",
       "      <td>Fulham</td>\n",
       "      <td>Newcastle</td>\n",
       "      <td>0</td>\n",
       "      <td>4</td>\n",
       "      <td>0</td>\n",
       "      <td>1</td>\n",
       "      <td>2</td>\n",
       "      <td>2</td>\n",
       "      <td>Yes</td>\n",
       "    </tr>\n",
       "    <tr>\n",
       "      <th>4</th>\n",
       "      <td>Leicester</td>\n",
       "      <td>Chelsea</td>\n",
       "      <td>0</td>\n",
       "      <td>0</td>\n",
       "      <td>1</td>\n",
       "      <td>1</td>\n",
       "      <td>X</td>\n",
       "      <td>X</td>\n",
       "      <td>Yes</td>\n",
       "    </tr>\n",
       "    <tr>\n",
       "      <th>5</th>\n",
       "      <td>Liverpool</td>\n",
       "      <td>Wolves</td>\n",
       "      <td>2</td>\n",
       "      <td>0</td>\n",
       "      <td>2</td>\n",
       "      <td>0</td>\n",
       "      <td>1</td>\n",
       "      <td>1</td>\n",
       "      <td>Yes</td>\n",
       "    </tr>\n",
       "    <tr>\n",
       "      <th>6</th>\n",
       "      <td>Man United</td>\n",
       "      <td>Cardiff</td>\n",
       "      <td>0</td>\n",
       "      <td>2</td>\n",
       "      <td>2</td>\n",
       "      <td>0</td>\n",
       "      <td>2</td>\n",
       "      <td>1</td>\n",
       "      <td>No</td>\n",
       "    </tr>\n",
       "    <tr>\n",
       "      <th>7</th>\n",
       "      <td>Southampton</td>\n",
       "      <td>Huddersfield</td>\n",
       "      <td>1</td>\n",
       "      <td>1</td>\n",
       "      <td>1</td>\n",
       "      <td>0</td>\n",
       "      <td>X</td>\n",
       "      <td>1</td>\n",
       "      <td>No</td>\n",
       "    </tr>\n",
       "    <tr>\n",
       "      <th>8</th>\n",
       "      <td>Tottenham</td>\n",
       "      <td>Everton</td>\n",
       "      <td>2</td>\n",
       "      <td>2</td>\n",
       "      <td>1</td>\n",
       "      <td>0</td>\n",
       "      <td>X</td>\n",
       "      <td>1</td>\n",
       "      <td>No</td>\n",
       "    </tr>\n",
       "    <tr>\n",
       "      <th>9</th>\n",
       "      <td>Watford</td>\n",
       "      <td>West Ham</td>\n",
       "      <td>1</td>\n",
       "      <td>4</td>\n",
       "      <td>1</td>\n",
       "      <td>1</td>\n",
       "      <td>2</td>\n",
       "      <td>X</td>\n",
       "      <td>No</td>\n",
       "    </tr>\n",
       "  </tbody>\n",
       "</table>\n",
       "</div>"
      ],
      "text/plain": [
       "             Home          Away  Home Goals  Away Goals  Home Prediction  \\\n",
       "0        Brighton      Man City           1           4                0   \n",
       "1         Burnley       Arsenal           1           3                1   \n",
       "2  Crystal Palace   Bournemouth           5           3                1   \n",
       "3          Fulham     Newcastle           0           4                0   \n",
       "4       Leicester       Chelsea           0           0                1   \n",
       "5       Liverpool        Wolves           2           0                2   \n",
       "6      Man United       Cardiff           0           2                2   \n",
       "7     Southampton  Huddersfield           1           1                1   \n",
       "8       Tottenham       Everton           2           2                1   \n",
       "9         Watford      West Ham           1           4                1   \n",
       "\n",
       "   Away Prediction 1x2 1x2_Pred Match  \n",
       "0                2   2        2   Yes  \n",
       "1                2   2        2   Yes  \n",
       "2                1   1        X    No  \n",
       "3                1   2        2   Yes  \n",
       "4                1   X        X   Yes  \n",
       "5                0   1        1   Yes  \n",
       "6                0   2        1    No  \n",
       "7                0   X        1    No  \n",
       "8                0   X        1    No  \n",
       "9                1   2        X    No  "
      ]
     },
     "execution_count": 16,
     "metadata": {},
     "output_type": "execute_result"
    }
   ],
   "source": [
    "final_df_s"
   ]
  },
  {
   "cell_type": "code",
   "execution_count": 17,
   "metadata": {
    "ExecuteTime": {
     "end_time": "2019-10-18T14:33:28.844879Z",
     "start_time": "2019-10-18T14:33:28.834905Z"
    },
    "scrolled": true
   },
   "outputs": [
    {
     "data": {
      "text/plain": [
       "Match\n",
       "No     5\n",
       "Yes    5\n",
       "Name: Match, dtype: int64"
      ]
     },
     "execution_count": 17,
     "metadata": {},
     "output_type": "execute_result"
    }
   ],
   "source": [
    "final_df.groupby('Match')['Match'].count()"
   ]
  },
  {
   "cell_type": "raw",
   "metadata": {},
   "source": [
    "Okay, we predicted half of the match correct and half of the match wrong. For such an easy model, it isn´t bad or? But we just predicted one single match and it was the last matchday which should be less predictable. Some teams can´t change their position on the last matchday and therefore they have nothing to lose which results in weaker performances. In a next step we take a look at the top five european leagues (regarding to the uefa-coefficient) and predict the last 10 matchdays for each."
   ]
  },
  {
   "cell_type": "markdown",
   "metadata": {
    "ExecuteTime": {
     "end_time": "2019-10-13T20:14:13.535949Z",
     "start_time": "2019-10-13T20:14:13.530962Z"
    }
   },
   "source": [
    "## Test for all 5 top leagues"
   ]
  },
  {
   "cell_type": "code",
   "execution_count": 18,
   "metadata": {
    "ExecuteTime": {
     "end_time": "2019-10-18T14:33:28.870824Z",
     "start_time": "2019-10-18T14:33:28.858847Z"
    }
   },
   "outputs": [],
   "source": [
    "def loading_dfs(leagues,league_dfs,years):\n",
    "    league_df = pd.DataFrame()\n",
    "    for n in range(0,len(leagues)):\n",
    "        league_dfs[n] = pd.read_csv(\"http://www.football-data.co.uk/mmz4281/{}{}/{}.csv\".format(year, year+1,leagues[n]))\n",
    "        league_dfs[n] = league_dfs[n][['Div','HomeTeam','AwayTeam','FTHG','FTAG']]\n",
    "        league_dfs[n] = league_dfs[n].rename(columns={'FTHG': 'HomeGoals', 'FTAG': 'AwayGoals'})\n",
    "        league_dfs_test[n] = league_dfs[n][-100:]\n",
    "        league_dfs_test[n] = league_dfs_test[n].reset_index()\n",
    "        league_dfs[n] = league_dfs[n][:-100]\n",
    "    return league_dfs, league_dfs_test\n",
    "\n",
    "def modelling_dfs(league_df):\n",
    "    psn_modells = []\n",
    "    for n in range(0,len(league_df[0])):\n",
    "        import statsmodels.api as sm\n",
    "        import statsmodels.formula.api as smf\n",
    "\n",
    "        goal_model_data = pd.concat([league_df[0][n][['HomeTeam','AwayTeam','HomeGoals']].assign(home=1).rename(\n",
    "                    columns={'HomeTeam':'team', 'AwayTeam':'opponent','HomeGoals':'goals'}),\n",
    "                   league_df[0][n][['AwayTeam','HomeTeam','AwayGoals']].assign(home=0).rename(\n",
    "                    columns={'AwayTeam':'team', 'HomeTeam':'opponent','AwayGoals':'goals'})])\n",
    "\n",
    "        poisson_model = smf.glm(formula=\"goals ~ home + team + opponent\", data=goal_model_data, \n",
    "                                family=sm.families.Poisson()).fit()\n",
    "        psn_modells.append(poisson_model)\n",
    "    return psn_modells\n",
    "\n",
    "def transform_df(mod_df):\n",
    "    mod_df.loc[(mod_df['Home Goals'] > mod_df['Away Goals']), '1x2'] = '1'\n",
    "    mod_df.loc[(mod_df['Home Goals'] == mod_df['Away Goals']), '1x2'] = 'X'\n",
    "    mod_df.loc[(mod_df['Home Goals'] < mod_df['Away Goals']), '1x2'] = '2'\n",
    "    \n",
    "    mod_df['Home Prediction Int'] = mod_df['Home Prediction'].round(0).astype(int)\n",
    "    mod_df['Away Prediction Int'] = mod_df['Away Prediction'].round(0).astype(int)\n",
    "    mod_df.loc[(mod_df['Home Prediction Int'] > mod_df['Away Prediction Int']), '1x2_Pred'] = '1'\n",
    "    mod_df.loc[(mod_df['Home Prediction Int'] == mod_df['Away Prediction Int']), '1x2_Pred'] = 'X'\n",
    "    mod_df.loc[(mod_df['Home Prediction Int'] < mod_df['Away Prediction Int']), '1x2_Pred'] = '2'\n",
    "    \n",
    "    mod_df['Exact_Res'] = 'NO'\n",
    "    mod_df.loc[(mod_df['Home Goals'] == mod_df['Home Prediction Int']) & \n",
    "               (mod_df['Away Goals'] == mod_df['Away Prediction Int']), 'Exact_Res'] = 'YES'\n",
    "    \n",
    "    mod_df.loc[mod_df['1x2'] == mod_df['1x2_Pred'], 'Match'] = 'Yes'\n",
    "    mod_df.loc[mod_df['1x2'] != mod_df['1x2_Pred'], 'Match'] = 'No'\n",
    "    return mod_df\n",
    "\n",
    "def predicting_dfs(league_df,psn_modells):\n",
    "    prediction_dfs = []\n",
    "    for k in range(0,len(league_df[0])):        \n",
    "        from numpy import unravel_index\n",
    "\n",
    "        home_match = []\n",
    "        away_match = []\n",
    "        home_goals = []\n",
    "        away_goals = []\n",
    "        pred_list_home = []\n",
    "        pred_list_away = []\n",
    "\n",
    "        for n in range(0,len(league_df[1][k]['HomeTeam'])):\n",
    "\n",
    "            a = simulate_match(psn_modells[k], league_df[1][k]['HomeTeam'].loc[n], league_df[1][k]['AwayTeam'].loc[n], max_goals=7)\n",
    "            b = unravel_index(a.argmax(), a.shape)\n",
    "\n",
    "            home_match.append(league_df[1][k]['HomeTeam'].loc[n])\n",
    "            away_match.append(league_df[1][k]['AwayTeam'].loc[n])\n",
    "            home_goals.append(league_df[1][k]['HomeGoals'].loc[n])\n",
    "            away_goals.append(league_df[1][k]['AwayGoals'].loc[n])\n",
    "            pred_list_home.append(b[0])\n",
    "            pred_list_away.append(b[1])\n",
    "\n",
    "        final_df = pd.DataFrame({'Home': home_match, 'Away': away_match,\n",
    "                                 'Home Goals': home_goals, 'Away Goals': away_goals,\n",
    "                                 'Home Prediction': pred_list_home, 'Away Prediction': pred_list_away})\n",
    "        \n",
    "        final_df = transform_df(final_df)\n",
    "        \n",
    "        prediction_dfs.append(final_df)\n",
    "        \n",
    "    return prediction_dfs"
   ]
  },
  {
   "cell_type": "code",
   "execution_count": 19,
   "metadata": {
    "ExecuteTime": {
     "end_time": "2019-10-18T14:33:29.527792Z",
     "start_time": "2019-10-18T14:33:28.879821Z"
    },
    "scrolled": false
   },
   "outputs": [],
   "source": [
    "leagues = ['E0','SP1','D1','I1','F1']\n",
    "league_dfs = ['E0_df','SP1_df','D1_df','I1_df','F1_df']\n",
    "league_dfs_test = ['E0_df_test','SP1_df_test','D1_df_test','I1_df_test','F1_df_test']\n",
    "year = 18\n",
    "\n",
    "league_df = loading_dfs(leagues,league_dfs,year)"
   ]
  },
  {
   "cell_type": "code",
   "execution_count": 22,
   "metadata": {
    "ExecuteTime": {
     "end_time": "2019-10-18T14:33:29.740064Z",
     "start_time": "2019-10-18T14:33:29.553564Z"
    }
   },
   "outputs": [],
   "source": [
    "psn_modells = modelling_dfs(league_df)"
   ]
  },
  {
   "cell_type": "code",
   "execution_count": 24,
   "metadata": {
    "ExecuteTime": {
     "end_time": "2019-10-18T14:33:36.730398Z",
     "start_time": "2019-10-18T14:33:29.768989Z"
    },
    "scrolled": true
   },
   "outputs": [],
   "source": [
    "predicting_dfs = predicting_dfs(league_df,psn_modells)"
   ]
  },
  {
   "cell_type": "code",
   "execution_count": 25,
   "metadata": {
    "ExecuteTime": {
     "end_time": "2019-10-18T14:33:36.755308Z",
     "start_time": "2019-10-18T14:33:36.734341Z"
    }
   },
   "outputs": [],
   "source": [
    "correct_pl = predicting_dfs[0].groupby('Match')['Match'].count()[1]\n",
    "correct_sp = predicting_dfs[1].groupby('Match')['Match'].count()[1]\n",
    "correct_ger = predicting_dfs[2].groupby('Match')['Match'].count()[1]\n",
    "correct_it = predicting_dfs[3].groupby('Match')['Match'].count()[1]\n",
    "correct_fr = predicting_dfs[4].groupby('Match')['Match'].count()[1]\n",
    "incorrect_pl = predicting_dfs[0].groupby('Match')['Match'].count()[0]\n",
    "incorrect_sp = predicting_dfs[1].groupby('Match')['Match'].count()[0]\n",
    "incorrect_ger = predicting_dfs[2].groupby('Match')['Match'].count()[0]\n",
    "incorrect_it = predicting_dfs[3].groupby('Match')['Match'].count()[0]\n",
    "incorrect_fr = predicting_dfs[4].groupby('Match')['Match'].count()[0]"
   ]
  },
  {
   "cell_type": "code",
   "execution_count": 26,
   "metadata": {
    "ExecuteTime": {
     "end_time": "2019-10-18T14:33:36.764265Z",
     "start_time": "2019-10-18T14:33:36.758278Z"
    }
   },
   "outputs": [],
   "source": [
    "yes = correct_pl + correct_sp + correct_ger + correct_it + correct_fr\n",
    "no = incorrect_pl + incorrect_sp + incorrect_ger + incorrect_it + incorrect_fr"
   ]
  },
  {
   "cell_type": "code",
   "execution_count": 27,
   "metadata": {
    "ExecuteTime": {
     "end_time": "2019-10-18T14:33:36.775231Z",
     "start_time": "2019-10-18T14:33:36.767261Z"
    }
   },
   "outputs": [
    {
     "data": {
      "text/plain": [
       "48.2"
      ]
     },
     "execution_count": 27,
     "metadata": {},
     "output_type": "execute_result"
    }
   ],
   "source": [
    "round((yes/(yes+no)*100),2)"
   ]
  },
  {
   "cell_type": "code",
   "execution_count": 28,
   "metadata": {
    "ExecuteTime": {
     "end_time": "2019-10-18T14:33:36.911877Z",
     "start_time": "2019-10-18T14:33:36.777225Z"
    }
   },
   "outputs": [],
   "source": [
    "league_dic = ['England','Spain','Germany','Italy','France']\n",
    "league = []\n",
    "wins_per_matchday = []\n",
    "lose_per_matchday = []\n",
    "matchday = []\n",
    "\n",
    "for k in range(0,len(league_dic)):\n",
    "    for n in range(0,100,10):\n",
    "        matchday.append((n+10)/10)\n",
    "        league.append(league_dic[k])\n",
    "        wins_per_matchday.append(predicting_dfs[k][0+n:10+n].groupby('Match')['Match'].count()[1])\n",
    "        lose_per_matchday.append(predicting_dfs[k][0+n:10+n].groupby('Match')['Match'].count()[0])\n",
    "        \n",
    "df_vis = pd.DataFrame({'League': league, 'Wins': wins_per_matchday, 'Loses': lose_per_matchday, 'Matchday': matchday})"
   ]
  },
  {
   "cell_type": "code",
   "execution_count": 29,
   "metadata": {
    "ExecuteTime": {
     "end_time": "2019-10-18T14:33:36.925830Z",
     "start_time": "2019-10-18T14:33:36.913860Z"
    }
   },
   "outputs": [],
   "source": [
    "bla = pd.DataFrame(df_vis.groupby(['League','Matchday'])['Wins'].sum()).reset_index()"
   ]
  },
  {
   "cell_type": "code",
   "execution_count": 30,
   "metadata": {
    "ExecuteTime": {
     "end_time": "2019-10-18T14:33:36.938828Z",
     "start_time": "2019-10-18T14:33:36.928819Z"
    }
   },
   "outputs": [],
   "source": [
    "bla2 = bla.groupby('Matchday').sum().reset_index()"
   ]
  },
  {
   "cell_type": "code",
   "execution_count": 2,
   "metadata": {
    "ExecuteTime": {
     "end_time": "2019-10-18T15:53:01.184257Z",
     "start_time": "2019-10-18T15:52:56.098890Z"
    }
   },
   "outputs": [
    {
     "ename": "NameError",
     "evalue": "name 'bla' is not defined",
     "output_type": "error",
     "traceback": [
      "\u001b[1;31m---------------------------------------------------------------------------\u001b[0m",
      "\u001b[1;31mNameError\u001b[0m                                 Traceback (most recent call last)",
      "\u001b[1;32m<ipython-input-2-d1aab349e1c4>\u001b[0m in \u001b[0;36m<module>\u001b[1;34m\u001b[0m\n\u001b[0;32m      5\u001b[0m \u001b[1;33m\u001b[0m\u001b[0m\n\u001b[0;32m      6\u001b[0m fig = go.Figure(data=[\n\u001b[1;32m----> 7\u001b[1;33m     go.Bar(name='England', x=bla['Matchday'], y=bla.loc[bla['League'] == 'England']['Wins'],marker_color='#330C73',\n\u001b[0m\u001b[0;32m      8\u001b[0m     opacity=0.20),\n\u001b[0;32m      9\u001b[0m     go.Bar(name='Spain', x=bla['Matchday'], y=bla.loc[bla['League'] == 'Spain']['Wins'],marker_color='#330C73',\n",
      "\u001b[1;31mNameError\u001b[0m: name 'bla' is not defined"
     ]
    }
   ],
   "source": [
    "import plotly.express as px\n",
    "league_dic = ['England','Spain','Germany','Italy','France']\n",
    "\n",
    "fig = go.Figure()\n",
    "\n",
    "fig = go.Figure(data=[\n",
    "    go.Bar(name='England', x=bla['Matchday'], y=bla.loc[bla['League'] == 'England']['Wins'],marker_color='#330C73',\n",
    "    opacity=0.20),\n",
    "    go.Bar(name='Spain', x=bla['Matchday'], y=bla.loc[bla['League'] == 'Spain']['Wins'],marker_color='#330C73',\n",
    "    opacity=0.40),\n",
    "    go.Bar(name='Germany', x=bla['Matchday'], y=bla.loc[bla['League'] == 'Germany']['Wins'],marker_color='#330C73',\n",
    "    opacity=0.60),\n",
    "    go.Bar(name='Italy', x=bla['Matchday'], y=bla.loc[bla['League'] == 'Italy']['Wins'],marker_color='#330C73',\n",
    "    opacity=0.80),\n",
    "    go.Bar(name='France', x=bla['Matchday'], y=bla.loc[bla['League'] == 'France']['Wins'],marker_color='#330C73',\n",
    "    opacity=1.00)\n",
    "])\n",
    "\n",
    "\n",
    "fig.add_trace(go.Scatter(x=bla2['Matchday'], y=bla2['Wins']/5,\n",
    "                    mode='lines',\n",
    "                         line = dict(color='Orange', width=4),\n",
    "                    name='Average'))\n",
    "\n",
    "fig.update_layout(title='Correct predicted matches out of 10 per matchday',\n",
    "                   xaxis_title='-- Matchday ->',\n",
    "                   yaxis_title='Correct predicted matches',\n",
    "                  barmode='group')\n",
    "#fig.show()"
   ]
  }
 ],
 "metadata": {
  "hide_input": false,
  "kernelspec": {
   "display_name": "Python 3",
   "language": "python",
   "name": "python3"
  },
  "language_info": {
   "codemirror_mode": {
    "name": "ipython",
    "version": 3
   },
   "file_extension": ".py",
   "mimetype": "text/x-python",
   "name": "python",
   "nbconvert_exporter": "python",
   "pygments_lexer": "ipython3",
   "version": "3.7.1"
  },
  "varInspector": {
   "cols": {
    "lenName": 16,
    "lenType": 16,
    "lenVar": 40
   },
   "kernels_config": {
    "python": {
     "delete_cmd_postfix": "",
     "delete_cmd_prefix": "del ",
     "library": "var_list.py",
     "varRefreshCmd": "print(var_dic_list())"
    },
    "r": {
     "delete_cmd_postfix": ") ",
     "delete_cmd_prefix": "rm(",
     "library": "var_list.r",
     "varRefreshCmd": "cat(var_dic_list()) "
    }
   },
   "types_to_exclude": [
    "module",
    "function",
    "builtin_function_or_method",
    "instance",
    "_Feature"
   ],
   "window_display": false
  }
 },
 "nbformat": 4,
 "nbformat_minor": 2
}
